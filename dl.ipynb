{
  "nbformat": 4,
  "nbformat_minor": 0,
  "metadata": {
    "colab": {
      "provenance": []
    },
    "kernelspec": {
      "name": "python3",
      "display_name": "Python 3"
    },
    "language_info": {
      "name": "python"
    }
  },
  "cells": [
    {
      "cell_type": "code",
      "source": [
        "!pip install opencv-python-headless numpy"
      ],
      "metadata": {
        "colab": {
          "base_uri": "https://localhost:8080/"
        },
        "id": "TLRMKeRaqdsu",
        "outputId": "7e3357bc-6fe1-4c18-da0e-be0ed051a6c8"
      },
      "execution_count": null,
      "outputs": [
        {
          "output_type": "stream",
          "name": "stdout",
          "text": [
            "Requirement already satisfied: opencv-python-headless in /usr/local/lib/python3.11/dist-packages (4.11.0.86)\n",
            "Requirement already satisfied: numpy in /usr/local/lib/python3.11/dist-packages (2.0.2)\n"
          ]
        }
      ]
    },
    {
      "cell_type": "code",
      "source": [
        "# Run a Python script directly (after uploading it)\n",
        "!python autonomousVehicle.py"
      ],
      "metadata": {
        "colab": {
          "base_uri": "https://localhost:8080/"
        },
        "id": "fxqE5cLSrW-L",
        "outputId": "f88f947d-9cbc-48f4-f40a-ff85dc847ed5"
      },
      "execution_count": null,
      "outputs": [
        {
          "output_type": "stream",
          "name": "stdout",
          "text": [
            "qt.qpa.xcb: could not connect to display \n",
            "qt.qpa.plugin: Could not load the Qt platform plugin \"xcb\" in \"/usr/local/lib/python3.11/dist-packages/cv2/qt/plugins\" even though it was found.\n",
            "This application failed to start because no Qt platform plugin could be initialized. Reinstalling the application may fix this problem.\n",
            "\n",
            "Available platform plugins are: xcb.\n",
            "\n"
          ]
        }
      ]
    },
    {
      "cell_type": "code",
      "source": [
        "import cv2\n",
        "import numpy as np\n",
        "\n",
        "def canny_edge(image):\n",
        "    gray = cv2.cvtColor(image, cv2.COLOR_RGB2GRAY)\n",
        "    blur = cv2.GaussianBlur(gray, (5, 5), 0)\n",
        "    return cv2.Canny(blur, 50, 150)\n",
        "\n",
        "def region_of_interest(image):\n",
        "    height = image.shape[0]\n",
        "    polygons = np.array([[(200, height), (1100, height), (550, 250)]])\n",
        "    mask = np.zeros_like(image)\n",
        "    cv2.fillPoly(mask, polygons, 255)\n",
        "    return cv2.bitwise_and(image, mask)\n",
        "\n",
        "def display_lines(image, lines):\n",
        "    line_image = np.zeros_like(image)\n",
        "    if lines is not None:\n",
        "        for line in lines:\n",
        "            for x1, y1, x2, y2 in line:\n",
        "                cv2.line(line_image, (x1, y1), (x2, y2), (0, 255, 0), 10)\n",
        "    return line_image\n",
        "\n",
        "def process_video(input_path='LaneVideo.mp4', output_path='lane_output1.mp4'):\n",
        "    cap = cv2.VideoCapture(input_path)\n",
        "    fourcc = cv2.VideoWriter_fourcc(*'mp4v')\n",
        "    out = cv2.VideoWriter(output_path, fourcc, 20.0, (int(cap.get(3)), int(cap.get(4))))\n",
        "\n",
        "    while cap.isOpened():\n",
        "        ret, frame = cap.read()\n",
        "        if not ret:\n",
        "            break\n",
        "\n",
        "        canny = canny_edge(frame)\n",
        "        cropped = region_of_interest(canny)\n",
        "        lines = cv2.HoughLinesP(cropped, 2, np.pi/180, 100, minLineLength=40, maxLineGap=5)\n",
        "        line_image = display_lines(frame, lines)\n",
        "        combo = cv2.addWeighted(frame, 0.8, line_image, 1, 1)\n",
        "        out.write(combo)\n",
        "\n",
        "    cap.release()\n",
        "    out.release()\n",
        "    print(\"✅ Output saved as 'lane_output.mp4'\")\n",
        "\n",
        "# Run the pipeline\n",
        "process_video()\n"
      ],
      "metadata": {
        "colab": {
          "base_uri": "https://localhost:8080/"
        },
        "id": "v1Td-u_ZuQIa",
        "outputId": "5008b8f8-591c-45b7-f690-23dcc374b44e"
      },
      "execution_count": null,
      "outputs": [
        {
          "output_type": "stream",
          "name": "stdout",
          "text": [
            "✅ Output saved as 'lane_output.mp4'\n"
          ]
        }
      ]
    }
  ]
}